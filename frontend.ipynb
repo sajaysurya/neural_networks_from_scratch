{
 "cells": [
  {
   "cell_type": "markdown",
   "metadata": {},
   "source": [
    "# MNIST Classification using Neural Networks"
   ]
  },
  {
   "cell_type": "code",
   "execution_count": 1,
   "metadata": {
    "colab": {},
    "colab_type": "code",
    "id": "rPYnfzQfltxp"
   },
   "outputs": [],
   "source": [
    "import numpy as np\n",
    "from tqdm import tqdm_notebook as tqdm\n",
    "import matplotlib.pyplot as plt\n",
    "import backend  # Neural network implementation\n",
    "import utilities  # For ploting and data import"
   ]
  },
  {
   "cell_type": "markdown",
   "metadata": {
    "colab_type": "text",
    "id": "7jHmjyz_jFr9"
   },
   "source": [
    "## Feed Forward Neural Network\n",
    "\n",
    "### Model\n",
    "\n",
    "(input $\\rightarrow$ fully connected + Relu (32) $\\rightarrow$ fuly connected $\\rightarrow$ softmax $\\rightarrow$ class probabilities)\n",
    "\n",
    "### Hyper-parameters\n",
    "\n",
    "num_epochs=4, learning_rate=0.001"
   ]
  },
  {
   "cell_type": "code",
   "execution_count": 2,
   "metadata": {
    "colab": {},
    "colab_type": "code",
    "id": "oGAT8ewLeyt_"
   },
   "outputs": [],
   "source": [
    "# set hyperparameters\n",
    "num_epochs = 4\n",
    "learning_rate = 0.001\n",
    "batch_size = 100"
   ]
  },
  {
   "cell_type": "code",
   "execution_count": 3,
   "metadata": {
    "colab": {
     "base_uri": "https://localhost:8080/",
     "height": 467
    },
    "colab_type": "code",
    "id": "g-JjlA-Wh3hS",
    "outputId": "31bdf42d-53b2-4702-9d1b-e9ce9e5a1b92"
   },
   "outputs": [
    {
     "data": {
      "application/vnd.jupyter.widget-view+json": {
       "model_id": "31ce88860cb04c598cef545caa71bc2d",
       "version_major": 2,
       "version_minor": 0
      },
      "text/plain": [
       "HBox(children=(IntProgress(value=0, max=2401), HTML(value='')))"
      ]
     },
     "metadata": {},
     "output_type": "display_data"
    },
    {
     "name": "stdout",
     "output_type": "stream",
     "text": [
      "\n",
      "Achieved Prediction Accuracy:  0.945 %\n"
     ]
    },
    {
     "data": {
      "image/png": "[encoded data removed]",
      "text/plain": [
       "<Figure size 432x288 with 1 Axes>"
      ]
     },
     "metadata": {
      "needs_background": "light"
     },
     "output_type": "display_data"
    }
   ],
   "source": [
    "mnist = utilities.MNIST()\n",
    "\n",
    "# define model\n",
    "mymodel = backend.Model(784, \"linear\", \"relu\")\n",
    "\n",
    "# initialize and set params\n",
    "count, test_accuracy = 0, []\n",
    "log_freq = 200\n",
    "\n",
    "# progress bar\n",
    "pbar = tqdm(total=60000*num_epochs/batch_size+1)\n",
    "\n",
    "while mnist.epochs_completed < num_epochs:\n",
    "    # update counts\n",
    "    pbar.update(1)\n",
    "    count += 1\n",
    "    batch_xs, batch_ys = mnist.next_batch(batch_size)\n",
    "\n",
    "    # train using a batch\n",
    "    mymodel.train(learning_rate, batch_xs, batch_ys)\n",
    "\n",
    "    # periodically evaluate\n",
    "    if count % log_freq == 0:\n",
    "        # evaluate with the complete test set\n",
    "        batch_xs, batch_ys = mnist.test_batch()\n",
    "        val = mymodel.evaluate(batch_xs, batch_ys)\n",
    "        test_accuracy.append(val)\n",
    "        \n",
    "pbar.close()\n",
    "# print the result\n",
    "utilities.summarize_result(test_accuracy)"
   ]
  },
  {
   "cell_type": "markdown",
   "metadata": {
    "colab_type": "text",
    "id": "XdldRURrjiAd"
   },
   "source": [
    "## Convolutional Neural Network\n",
    "\n",
    "### Model\n",
    "\n",
    "(input(28x28) $\\rightarrow$ conv(3x3x8) + maxpool(2x2) $\\rightarrow$ conv(3x3x8) + maxpool(2x2) $\\rightarrow$ flatten $\\rightarrow$ fully connected + Relu (32) $\\rightarrow$ fully connected $\\rightarrow$ softmax $\\rightarrow$ class probabilities)\n",
    "\n",
    "### Hyper-parameters\n",
    "\n",
    "num_epochs=4, learning_rate=0.001"
   ]
  },
  {
   "cell_type": "code",
   "execution_count": 4,
   "metadata": {
    "colab": {},
    "colab_type": "code",
    "id": "TOUd73i2yQS6"
   },
   "outputs": [],
   "source": [
    "# set hyperparameters\n",
    "num_epochs = 4\n",
    "learning_rate = 0.001\n",
    "batch_size = 100"
   ]
  },
  {
   "cell_type": "code",
   "execution_count": 5,
   "metadata": {
    "colab": {
     "base_uri": "https://localhost:8080/",
     "height": 467
    },
    "colab_type": "code",
    "id": "gFtzPQWGySM3",
    "outputId": "04f83d45-748a-47f0-e72a-0abd193b2bfa"
   },
   "outputs": [
    {
     "data": {
      "application/vnd.jupyter.widget-view+json": {
       "model_id": "a8960919eeff45149fbdca4de138d0a1",
       "version_major": 2,
       "version_minor": 0
      },
      "text/plain": [
       "HBox(children=(IntProgress(value=0, max=2401), HTML(value='')))"
      ]
     },
     "metadata": {},
     "output_type": "display_data"
    },
    {
     "name": "stdout",
     "output_type": "stream",
     "text": [
      "\n",
      "Achieved Prediction Accuracy:  0.9797 %\n"
     ]
    },
    {
     "data": {
      "image/png": "[encoded data removed]",
      "text/plain": [
       "<Figure size 432x288 with 1 Axes>"
      ]
     },
     "metadata": {
      "needs_background": "light"
     },
     "output_type": "display_data"
    }
   ],
   "source": [
    "mnist = utilities.MNIST()\n",
    "\n",
    "# define model\n",
    "mymodel = backend.Model([28, 28, 1], \"conv\", \"maxpool\", \"conv\", \"maxpool\",\n",
    "                  \"flatten\", \"linear\", \"relu\", \"linear\", \"relu\")\n",
    "\n",
    "# initialize and set params\n",
    "count, test_accuracy = 0, []\n",
    "log_freq = 200\n",
    "\n",
    "# progress bar\n",
    "pbar = tqdm(total=60000*num_epochs/batch_size+1)\n",
    "\n",
    "while mnist.epochs_completed < num_epochs:\n",
    "    # update counts\n",
    "    pbar.update(1)\n",
    "    count += 1\n",
    "    batch_xs, batch_ys = mnist.next_batch(batch_size)\n",
    "    batch_xs = np.reshape(batch_xs, [-1, 28, 28, 1])\n",
    "\n",
    "    # train using a batch\n",
    "    mymodel.train(learning_rate, batch_xs, batch_ys)\n",
    "\n",
    "    # periodically evaluate\n",
    "    if count % log_freq == 0:\n",
    "        # evaluate with the complete test set\n",
    "        batch_xs, batch_ys = mnist.test_batch()\n",
    "        batch_xs = np.reshape(batch_xs, [-1, 28, 28, 1])\n",
    "        val = mymodel.evaluate(batch_xs, batch_ys)\n",
    "        test_accuracy.append(val)\n",
    "\n",
    "pbar.close()\n",
    "# print the result\n",
    "utilities.summarize_result(test_accuracy)"
   ]
  }
 ],
 "metadata": {
  "accelerator": "GPU",
  "colab": {
   "collapsed_sections": [],
   "name": "17046861_DL_hw2.ipynb",
   "provenance": [],
   "version": "0.3.2"
  },
  "kernelspec": {
   "display_name": "Python 3",
   "language": "python",
   "name": "python3"
  },
  "language_info": {
   "codemirror_mode": {
    "name": "ipython",
    "version": 3
   },
   "file_extension": ".py",
   "mimetype": "text/x-python",
   "name": "python",
   "nbconvert_exporter": "python",
   "pygments_lexer": "ipython3",
   "version": "3.6.7"
  }
 },
 "nbformat": 4,
 "nbformat_minor": 1
}
